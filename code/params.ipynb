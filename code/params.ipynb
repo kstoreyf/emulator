{
 "cells": [
  {
   "cell_type": "code",
   "execution_count": 13,
   "metadata": {},
   "outputs": [],
   "source": [
    "import numpy as np\n",
    "from matplotlib import pyplot as plt\n",
    "%matplotlib inline\n",
    "plt.rcParams.update({'font.size': 16, 'figure.figsize':(8,6)})"
   ]
  },
  {
   "cell_type": "code",
   "execution_count": 21,
   "metadata": {},
   "outputs": [],
   "source": [
    "hod_names = ['M_sat', 'alpha', 'M_cut', 'sigma_logM', 'v_bc', 'v_bs', 'c_vir', 'f', 'f_env', 'delta_env', 'sigma_env']\n",
    "hods_truth = np.loadtxt('../tables/HOD_test_np11_n1000_new_f_env.dat')\n",
    "\n",
    "cosmo_names = ['Omega_m', 'Omega_b', 'sigma_8', 'h', 'n_s', 'N_eff', 'w']\n",
    "cosmos_truth = np.loadtxt('../tables/cosmology_camb_test_box_full.dat')"
   ]
  },
  {
   "cell_type": "code",
   "execution_count": 22,
   "metadata": {},
   "outputs": [],
   "source": [
    "cosmo, hod = 0, 0\n",
    "\n",
    "hod_truth = hods_truth[hod]\n",
    "cosmo_truth = cosmos_truth[cosmo]"
   ]
  },
  {
   "cell_type": "code",
   "execution_count": 24,
   "metadata": {},
   "outputs": [
    {
     "name": "stdout",
     "output_type": "stream",
     "text": [
      "1000\n",
      "7\n"
     ]
    }
   ],
   "source": [
    "print(len(hods_truth))\n",
    "print(len(cosmos_truth))"
   ]
  },
  {
   "cell_type": "code",
   "execution_count": 29,
   "metadata": {},
   "outputs": [
    {
     "name": "stdout",
     "output_type": "stream",
     "text": [
      "M_sat: 171109700000000.0 \n",
      "\t bounds: [63104430000000.0, 314669400000000.0]\n",
      "alpha: 1.108724 \n",
      "\t bounds: [0.2005406, 1.798676]\n",
      "M_cut: 68993610000.0 \n",
      "\t bounds: [10010250000.0, 50061300000000.0]\n",
      "sigma_logM: 0.5699212 \n",
      "\t bounds: [0.05086696, 0.5999472]\n",
      "v_bc: 0.2785511 \n",
      "\t bounds: [0.0002834673, 0.699961]\n",
      "v_bs: 0.9223624 \n",
      "\t bounds: [0.2028271, 1.998698]\n",
      "c_vir: 1.341984 \n",
      "\t bounds: [0.2008345, 1.997492]\n",
      "f: 1.10162 \n",
      "\t bounds: [0.5005477, 1.499776]\n",
      "f_env: 0.1879146 \n",
      "\t bounds: [-0.2981694, 0.2989349]\n",
      "delta_env: 0.8667378 \n",
      "\t bounds: [0.5016521, 1.999972]\n",
      "sigma_env: 0.734356 \n",
      "\t bounds: [0.100522, 0.9998796]\n"
     ]
    }
   ],
   "source": [
    "for i in range(len(hod_names)):\n",
    "    vals = hods_truth[:,i]\n",
    "    print(f'{hod_names[i]}: {hod_truth[i]} \\n\\t bounds: [{min(vals)}, {max(vals)}]')"
   ]
  },
  {
   "cell_type": "code",
   "execution_count": null,
   "metadata": {},
   "outputs": [],
   "source": []
  },
  {
   "cell_type": "code",
   "execution_count": null,
   "metadata": {},
   "outputs": [],
   "source": []
  },
  {
   "cell_type": "code",
   "execution_count": 30,
   "metadata": {},
   "outputs": [
    {
     "name": "stdout",
     "output_type": "stream",
     "text": [
      "Omega_m: 0.327876 \n",
      "\t bounds: [0.278009, 0.327876]\n",
      "Omega_b: 0.0581827 \n",
      "\t bounds: [0.0396483, 0.0581827]\n",
      "sigma_8: 0.694428 \n",
      "\t bounds: [0.694428, 0.907786]\n",
      "h: 0.632317 \n",
      "\t bounds: [0.632317, 0.732317]\n",
      "n_s: 0.980515 \n",
      "\t bounds: [0.944515, 0.980515]\n",
      "N_eff: 2.95 \n",
      "\t bounds: [2.95, 3.95]\n",
      "w: -0.726513 \n",
      "\t bounds: [-1.26651, -0.726513]\n"
     ]
    }
   ],
   "source": [
    "for i in range(len(cosmo_names)):\n",
    "    vals = cosmos_truth[:,i]\n",
    "    print(f'{cosmo_names[i]}: {cosmo_truth[i]} \\n\\t bounds: [{min(vals)}, {max(vals)}]')"
   ]
  },
  {
   "cell_type": "code",
   "execution_count": null,
   "metadata": {},
   "outputs": [],
   "source": []
  },
  {
   "cell_type": "code",
   "execution_count": 17,
   "metadata": {},
   "outputs": [],
   "source": [
    "msats = hods_truth[:,0]"
   ]
  },
  {
   "cell_type": "code",
   "execution_count": 12,
   "metadata": {},
   "outputs": [
    {
     "data": {
      "text/plain": [
       "(array([103.,  91.,  87., 106., 100., 114.,  97.,  91., 113.,  98.]),\n",
       " array([13.80005985, 13.86983931, 13.93961878, 14.00939825, 14.07917771,\n",
       "        14.14895718, 14.21873665, 14.28851611, 14.35829558, 14.42807505,\n",
       "        14.49785451]),\n",
       " <a list of 10 Patch objects>)"
      ]
     },
     "execution_count": 12,
     "metadata": {},
     "output_type": "execute_result"
    },
    {
     "data": {
      "image/png": "[encoded data removed]",
      "text/plain": [
       "<Figure size 432x288 with 1 Axes>"
      ]
     },
     "metadata": {
      "needs_background": "light"
     },
     "output_type": "display_data"
    }
   ],
   "source": [
    "plt.hist(np.log10(msats))\n",
    "#plt.xscale('log')"
   ]
  },
  {
   "cell_type": "code",
   "execution_count": null,
   "metadata": {},
   "outputs": [],
   "source": []
  }
 ],
 "metadata": {
  "kernelspec": {
   "display_name": "Python 3",
   "language": "python",
   "name": "python3"
  },
  "language_info": {
   "codemirror_mode": {
    "name": "ipython",
    "version": 3
   },
   "file_extension": ".py",
   "mimetype": "text/x-python",
   "name": "python",
   "nbconvert_exporter": "python",
   "pygments_lexer": "ipython3",
   "version": "3.7.3"
  }
 },
 "nbformat": 4,
 "nbformat_minor": 2
}
